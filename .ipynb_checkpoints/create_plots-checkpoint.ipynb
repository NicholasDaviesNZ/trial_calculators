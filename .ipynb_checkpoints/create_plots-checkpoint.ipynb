{
 "cells": [
  {
   "cell_type": "code",
   "execution_count": 1,
   "id": "ceba4c45-32af-47a8-864f-bc664a9e283f",
   "metadata": {},
   "outputs": [],
   "source": [
    "import numpy as np\n",
    "import random\n",
    "import pandas as pd"
   ]
  },
  {
   "cell_type": "code",
   "execution_count": 2,
   "id": "117899ec-61ae-4a3e-a762-f3a03aaa48f7",
   "metadata": {},
   "outputs": [],
   "source": [
    "# UNFINISHED, needs updateing to do blocking"
   ]
  },
  {
   "cell_type": "code",
   "execution_count": 3,
   "id": "28dc109e-3c78-4499-8f18-60850f3f9221",
   "metadata": {},
   "outputs": [
    {
     "name": "stdout",
     "output_type": "stream",
     "text": [
      "[[None None None None None None None None None None None None None None\n",
      "  None None None None None None None None None None None None None None\n",
      "  None None None None]\n",
      " [None None None None None None None None None None None None None None\n",
      "  None None None None None None None None None None None None None None\n",
      "  None None None None]]\n"
     ]
    }
   ],
   "source": [
    "num_of_treatments = 6\n",
    "num_of_reps = 8\n",
    "\n",
    "# reps_wide and reps_long are the two trial dimentions in number of reps and will be blocked, unblocked_reps is used when an extra rep is on the end etc. and is not blocked \n",
    "reps_layout = {'reps_wide':2, 'reps_long':3, 'unblocked_reps':2}\n",
    "\n",
    "# check the reps_layout is ok\n",
    "if reps_layout['reps_wide']*reps_layout['reps_long']+reps_layout['unblocked_reps'] != num_of_reps:\n",
    "    print(\"WARNING: layout does not match blocking\")\n",
    "# need to some how do a shape thing so that we can have reps next to each other\n",
    "# once that is done need to work out how to enforce blocking\n",
    "\n",
    "num_of_plots = num_of_treatments*num_of_reps\n",
    "\n",
    "u_treatments = [f'T{i}' for i in range(num_of_treatments)]\n",
    "u_reps = [f'R{i+1}' for i in range(num_of_reps)]\n",
    "\n",
    "trial_layout_init = np.empty((reps_layout['reps_long'], reps_layout['reps_wide']*num_of_treatments), dtype=object)\n",
    "unblocked_layout_init = np.empty((num_of_treatments, reps_layout['unblocked_reps']), dtype=object)\n",
    "print(trial_layout_init)\n",
    "\n",
    "def randomize_list(in_list):\n",
    "    return(random.sample(in_list, len(in_list)))"
   ]
  },
  {
   "cell_type": "code",
   "execution_count": 4,
   "id": "e1ff6dfd-6fb5-4175-9ff8-b9610e870480",
   "metadata": {},
   "outputs": [
    {
     "data": {
      "text/plain": [
       "array([], shape=(16, 0), dtype=object)"
      ]
     },
     "execution_count": 4,
     "metadata": {},
     "output_type": "execute_result"
    }
   ],
   "source": [
    "unblocked_layout_init"
   ]
  },
  {
   "cell_type": "code",
   "execution_count": 5,
   "id": "3e46afa9-11d3-4d0b-81c1-5cdf511e5ce5",
   "metadata": {},
   "outputs": [],
   "source": [
    "for rw in range(0, reps_layout['reps_wide']*num_of_treatments, num_of_treatments):\n",
    "    for rl in range(0, reps_layout['reps_long']):\n",
    "        trial_layout_init[rl,rw:rw+num_of_treatments] = randomize_list(u_treatments)\n",
    "for ubr in range(reps_layout['unblocked_reps']):\n",
    "    unblocked_layout_init[:,ubr] = randomize_list(u_treatments)"
   ]
  },
  {
   "cell_type": "code",
   "execution_count": 8,
   "id": "5d5bab5a-8bad-45b9-b834-4a43bdfb0fb7",
   "metadata": {},
   "outputs": [
    {
     "data": {
      "text/html": [
       "<div>\n",
       "<style scoped>\n",
       "    .dataframe tbody tr th:only-of-type {\n",
       "        vertical-align: middle;\n",
       "    }\n",
       "\n",
       "    .dataframe tbody tr th {\n",
       "        vertical-align: top;\n",
       "    }\n",
       "\n",
       "    .dataframe thead th {\n",
       "        text-align: right;\n",
       "    }\n",
       "</style>\n",
       "<table border=\"1\" class=\"dataframe\">\n",
       "  <thead>\n",
       "    <tr style=\"text-align: right;\">\n",
       "      <th></th>\n",
       "      <th>0</th>\n",
       "      <th>1</th>\n",
       "      <th>2</th>\n",
       "      <th>3</th>\n",
       "      <th>4</th>\n",
       "      <th>5</th>\n",
       "      <th>6</th>\n",
       "      <th>7</th>\n",
       "      <th>8</th>\n",
       "      <th>9</th>\n",
       "      <th>...</th>\n",
       "      <th>22</th>\n",
       "      <th>23</th>\n",
       "      <th>24</th>\n",
       "      <th>25</th>\n",
       "      <th>26</th>\n",
       "      <th>27</th>\n",
       "      <th>28</th>\n",
       "      <th>29</th>\n",
       "      <th>30</th>\n",
       "      <th>31</th>\n",
       "    </tr>\n",
       "  </thead>\n",
       "  <tbody>\n",
       "    <tr>\n",
       "      <th>0</th>\n",
       "      <td>T14</td>\n",
       "      <td>T6</td>\n",
       "      <td>T12</td>\n",
       "      <td>T2</td>\n",
       "      <td>T5</td>\n",
       "      <td>T8</td>\n",
       "      <td>T0</td>\n",
       "      <td>T13</td>\n",
       "      <td>T7</td>\n",
       "      <td>T1</td>\n",
       "      <td>...</td>\n",
       "      <td>T15</td>\n",
       "      <td>T2</td>\n",
       "      <td>T11</td>\n",
       "      <td>T7</td>\n",
       "      <td>T6</td>\n",
       "      <td>T1</td>\n",
       "      <td>T4</td>\n",
       "      <td>T13</td>\n",
       "      <td>T14</td>\n",
       "      <td>T10</td>\n",
       "    </tr>\n",
       "    <tr>\n",
       "      <th>1</th>\n",
       "      <td>T2</td>\n",
       "      <td>T15</td>\n",
       "      <td>T13</td>\n",
       "      <td>T8</td>\n",
       "      <td>T7</td>\n",
       "      <td>T5</td>\n",
       "      <td>T1</td>\n",
       "      <td>T12</td>\n",
       "      <td>T14</td>\n",
       "      <td>T6</td>\n",
       "      <td>...</td>\n",
       "      <td>T2</td>\n",
       "      <td>T1</td>\n",
       "      <td>T10</td>\n",
       "      <td>T5</td>\n",
       "      <td>T0</td>\n",
       "      <td>T15</td>\n",
       "      <td>T9</td>\n",
       "      <td>T3</td>\n",
       "      <td>T13</td>\n",
       "      <td>T11</td>\n",
       "    </tr>\n",
       "  </tbody>\n",
       "</table>\n",
       "<p>2 rows × 32 columns</p>\n",
       "</div>"
      ],
      "text/plain": [
       "    0    1    2   3   4   5   6    7    8   9   ...   22  23   24  25  26  \\\n",
       "0  T14   T6  T12  T2  T5  T8  T0  T13   T7  T1  ...  T15  T2  T11  T7  T6   \n",
       "1   T2  T15  T13  T8  T7  T5  T1  T12  T14  T6  ...   T2  T1  T10  T5  T0   \n",
       "\n",
       "    27  28   29   30   31  \n",
       "0   T1  T4  T13  T14  T10  \n",
       "1  T15  T9   T3  T13  T11  \n",
       "\n",
       "[2 rows x 32 columns]"
      ]
     },
     "execution_count": 8,
     "metadata": {},
     "output_type": "execute_result"
    }
   ],
   "source": [
    "pd.DataFrame(trial_layout_init)"
   ]
  },
  {
   "cell_type": "code",
   "execution_count": 7,
   "id": "85c5fd21-8615-4bd1-ab62-716e6f76855d",
   "metadata": {},
   "outputs": [
    {
     "data": {
      "text/html": [
       "<div>\n",
       "<style scoped>\n",
       "    .dataframe tbody tr th:only-of-type {\n",
       "        vertical-align: middle;\n",
       "    }\n",
       "\n",
       "    .dataframe tbody tr th {\n",
       "        vertical-align: top;\n",
       "    }\n",
       "\n",
       "    .dataframe thead th {\n",
       "        text-align: right;\n",
       "    }\n",
       "</style>\n",
       "<table border=\"1\" class=\"dataframe\">\n",
       "  <thead>\n",
       "    <tr style=\"text-align: right;\">\n",
       "      <th></th>\n",
       "    </tr>\n",
       "  </thead>\n",
       "  <tbody>\n",
       "    <tr>\n",
       "      <th>0</th>\n",
       "    </tr>\n",
       "    <tr>\n",
       "      <th>1</th>\n",
       "    </tr>\n",
       "    <tr>\n",
       "      <th>2</th>\n",
       "    </tr>\n",
       "    <tr>\n",
       "      <th>3</th>\n",
       "    </tr>\n",
       "    <tr>\n",
       "      <th>4</th>\n",
       "    </tr>\n",
       "    <tr>\n",
       "      <th>5</th>\n",
       "    </tr>\n",
       "    <tr>\n",
       "      <th>6</th>\n",
       "    </tr>\n",
       "    <tr>\n",
       "      <th>7</th>\n",
       "    </tr>\n",
       "    <tr>\n",
       "      <th>8</th>\n",
       "    </tr>\n",
       "    <tr>\n",
       "      <th>9</th>\n",
       "    </tr>\n",
       "    <tr>\n",
       "      <th>10</th>\n",
       "    </tr>\n",
       "    <tr>\n",
       "      <th>11</th>\n",
       "    </tr>\n",
       "    <tr>\n",
       "      <th>12</th>\n",
       "    </tr>\n",
       "    <tr>\n",
       "      <th>13</th>\n",
       "    </tr>\n",
       "    <tr>\n",
       "      <th>14</th>\n",
       "    </tr>\n",
       "    <tr>\n",
       "      <th>15</th>\n",
       "    </tr>\n",
       "  </tbody>\n",
       "</table>\n",
       "</div>"
      ],
      "text/plain": [
       "Empty DataFrame\n",
       "Columns: []\n",
       "Index: [0, 1, 2, 3, 4, 5, 6, 7, 8, 9, 10, 11, 12, 13, 14, 15]"
      ]
     },
     "execution_count": 7,
     "metadata": {},
     "output_type": "execute_result"
    }
   ],
   "source": [
    "pd.DataFrame(unblocked_layout_init)"
   ]
  },
  {
   "cell_type": "code",
   "execution_count": null,
   "id": "c4ab5bca-33f7-4329-8221-11d21b083752",
   "metadata": {},
   "outputs": [],
   "source": []
  },
  {
   "cell_type": "code",
   "execution_count": null,
   "id": "5a575f72-3b4d-4c37-9114-48c88f6729d6",
   "metadata": {},
   "outputs": [],
   "source": []
  },
  {
   "cell_type": "code",
   "execution_count": null,
   "id": "7b58ed1f-6c7b-4f4f-87e2-769820446e3f",
   "metadata": {},
   "outputs": [],
   "source": []
  }
 ],
 "metadata": {
  "kernelspec": {
   "display_name": "Python 3 (ipykernel)",
   "language": "python",
   "name": "python3"
  },
  "language_info": {
   "codemirror_mode": {
    "name": "ipython",
    "version": 3
   },
   "file_extension": ".py",
   "mimetype": "text/x-python",
   "name": "python",
   "nbconvert_exporter": "python",
   "pygments_lexer": "ipython3",
   "version": "3.11.3"
  }
 },
 "nbformat": 4,
 "nbformat_minor": 5
}
