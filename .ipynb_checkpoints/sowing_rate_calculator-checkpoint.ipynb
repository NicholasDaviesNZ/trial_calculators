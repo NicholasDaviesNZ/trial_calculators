{
 "cells": [
  {
   "cell_type": "code",
   "execution_count": 1,
   "id": "02b7ab75-763a-4994-aabf-8d83d1c88404",
   "metadata": {},
   "outputs": [],
   "source": [
    "TSW = 200 \n",
    "Target_plant_pop = 100\n",
    "Germ_percent = 96\n",
    "Expected_field_loss_precent = 15\n",
    "\n",
    "plot_length = 10 #m\n",
    "plot_width = 1.85 #m\n",
    "num_reps = 6\n",
    "num_treatments = 3\n"
   ]
  },
  {
   "cell_type": "code",
   "execution_count": 2,
   "id": "bcfa6006-492d-4bf4-8703-7c9eebe7244b",
   "metadata": {},
   "outputs": [],
   "source": [
    "seed_rate = ((TSW*Target_plant_pop)/(Germ_percent))*(100/(100-Expected_field_loss_precent))\n",
    "seed_rate_m2 = (seed_rate/10000)*1000\n",
    "seed_weight_per_plot = plot_length*plot_width*seed_rate_m2\n",
    "seed_weight_per_treatment = seed_weight_per_plot*num_reps\n",
    "seed_weight_total = seed_weight_per_plot*num_reps*num_treatments"
   ]
  },
  {
   "cell_type": "code",
   "execution_count": 3,
   "id": "0949bcf1-6134-451b-abf8-4e43956e94d6",
   "metadata": {},
   "outputs": [
    {
     "name": "stdout",
     "output_type": "stream",
     "text": [
      "sowing rate per kg/Ha: 245.1\n",
      "sowing rate per g/m2: 24.51\n",
      "seed weight per plot (g): 453.43\n",
      "seed weight per treatment (g): 2720.59\n",
      "seed weight total (g): 8161.76\n"
     ]
    }
   ],
   "source": [
    "print('sowing rate per kg/Ha:',round(seed_rate, 2))\n",
    "print('sowing rate per g/m2:', round(seed_rate_m2, 2))\n",
    "print('seed weight per plot (g):', round(seed_weight_per_plot, 2))\n",
    "print('seed weight per treatment (g):',round(seed_weight_per_treatment, 2))\n",
    "print('seed weight total (g):',round(seed_weight_total, 2))"
   ]
  },
  {
   "cell_type": "code",
   "execution_count": null,
   "id": "770b9f08-251e-4842-8485-0187998b28fb",
   "metadata": {},
   "outputs": [],
   "source": []
  }
 ],
 "metadata": {
  "kernelspec": {
   "display_name": "Python 3 (ipykernel)",
   "language": "python",
   "name": "python3"
  },
  "language_info": {
   "codemirror_mode": {
    "name": "ipython",
    "version": 3
   },
   "file_extension": ".py",
   "mimetype": "text/x-python",
   "name": "python",
   "nbconvert_exporter": "python",
   "pygments_lexer": "ipython3",
   "version": "3.11.3"
  }
 },
 "nbformat": 4,
 "nbformat_minor": 5
}
