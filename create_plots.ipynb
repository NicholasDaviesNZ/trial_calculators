{
 "cells": [
  {
   "cell_type": "code",
   "execution_count": 1,
   "id": "ceba4c45-32af-47a8-864f-bc664a9e283f",
   "metadata": {},
   "outputs": [],
   "source": [
    "import pandas as pd\n",
    "import random"
   ]
  },
  {
   "cell_type": "code",
   "execution_count": 2,
   "id": "28dc109e-3c78-4499-8f18-60850f3f9221",
   "metadata": {},
   "outputs": [],
   "source": [
    "num_of_treatments = 3\n",
    "num_of_reps = 6\n",
    "\n",
    "num_of_plots = num_of_treatments*num_of_reps\n",
    "\n",
    "u_treatments = [f'T{i}' for i in range(num_of_treatments)]\n",
    "u_reps = [f'R{i+1}' for i in range(num_of_reps)]\n",
    "\n",
    "def randomize_list(in_list):\n",
    "    return(random.sample(in_list, len(in_list)))"
   ]
  },
  {
   "cell_type": "code",
   "execution_count": 3,
   "id": "3e46afa9-11d3-4d0b-81c1-5cdf511e5ce5",
   "metadata": {},
   "outputs": [],
   "source": [
    "rand_treatmnets = randomize_list(u_treatments)\n",
    "\n",
    "df = pd.DataFrame(columns=u_reps)\n",
    "\n",
    "for col_name in u_reps:\n",
    "    df[col_name] = randomize_list(u_treatments)"
   ]
  },
  {
   "cell_type": "code",
   "execution_count": 4,
   "id": "5d5bab5a-8bad-45b9-b834-4a43bdfb0fb7",
   "metadata": {},
   "outputs": [
    {
     "data": {
      "text/html": [
       "<div>\n",
       "<style scoped>\n",
       "    .dataframe tbody tr th:only-of-type {\n",
       "        vertical-align: middle;\n",
       "    }\n",
       "\n",
       "    .dataframe tbody tr th {\n",
       "        vertical-align: top;\n",
       "    }\n",
       "\n",
       "    .dataframe thead th {\n",
       "        text-align: right;\n",
       "    }\n",
       "</style>\n",
       "<table border=\"1\" class=\"dataframe\">\n",
       "  <thead>\n",
       "    <tr style=\"text-align: right;\">\n",
       "      <th></th>\n",
       "      <th>R1</th>\n",
       "      <th>R2</th>\n",
       "      <th>R3</th>\n",
       "      <th>R4</th>\n",
       "      <th>R5</th>\n",
       "      <th>R6</th>\n",
       "    </tr>\n",
       "  </thead>\n",
       "  <tbody>\n",
       "    <tr>\n",
       "      <th>0</th>\n",
       "      <td>T0</td>\n",
       "      <td>T1</td>\n",
       "      <td>T1</td>\n",
       "      <td>T1</td>\n",
       "      <td>T1</td>\n",
       "      <td>T0</td>\n",
       "    </tr>\n",
       "    <tr>\n",
       "      <th>1</th>\n",
       "      <td>T1</td>\n",
       "      <td>T2</td>\n",
       "      <td>T2</td>\n",
       "      <td>T0</td>\n",
       "      <td>T0</td>\n",
       "      <td>T1</td>\n",
       "    </tr>\n",
       "    <tr>\n",
       "      <th>2</th>\n",
       "      <td>T2</td>\n",
       "      <td>T0</td>\n",
       "      <td>T0</td>\n",
       "      <td>T2</td>\n",
       "      <td>T2</td>\n",
       "      <td>T2</td>\n",
       "    </tr>\n",
       "  </tbody>\n",
       "</table>\n",
       "</div>"
      ],
      "text/plain": [
       "   R1  R2  R3  R4  R5  R6\n",
       "0  T0  T1  T1  T1  T1  T0\n",
       "1  T1  T2  T2  T0  T0  T1\n",
       "2  T2  T0  T0  T2  T2  T2"
      ]
     },
     "execution_count": 4,
     "metadata": {},
     "output_type": "execute_result"
    }
   ],
   "source": [
    "df"
   ]
  },
  {
   "cell_type": "code",
   "execution_count": null,
   "id": "c4ab5bca-33f7-4329-8221-11d21b083752",
   "metadata": {},
   "outputs": [],
   "source": []
  },
  {
   "cell_type": "code",
   "execution_count": null,
   "id": "5a575f72-3b4d-4c37-9114-48c88f6729d6",
   "metadata": {},
   "outputs": [],
   "source": []
  },
  {
   "cell_type": "code",
   "execution_count": null,
   "id": "7b58ed1f-6c7b-4f4f-87e2-769820446e3f",
   "metadata": {},
   "outputs": [],
   "source": []
  }
 ],
 "metadata": {
  "kernelspec": {
   "display_name": "Python 3 (ipykernel)",
   "language": "python",
   "name": "python3"
  },
  "language_info": {
   "codemirror_mode": {
    "name": "ipython",
    "version": 3
   },
   "file_extension": ".py",
   "mimetype": "text/x-python",
   "name": "python",
   "nbconvert_exporter": "python",
   "pygments_lexer": "ipython3",
   "version": "3.11.3"
  }
 },
 "nbformat": 4,
 "nbformat_minor": 5
}
